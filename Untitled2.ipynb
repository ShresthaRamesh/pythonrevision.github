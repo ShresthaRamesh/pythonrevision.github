{
 "cells": [
  {
   "cell_type": "code",
   "execution_count": null,
   "id": "cd52ac3c",
   "metadata": {},
   "outputs": [],
   "source": [
    "import turtle\n",
    "\n",
    "t = turtle.Turtle()\n",
    "\n",
    "t.speed(100)\n",
    "turtle.bgcolor(\"black\")\n",
    "\n",
    "for i in range(100):\n",
    "    t.color(\"cyan\")\n",
    "    t.circle(i)\n",
    "    t.left(5)\n",
    "    \n",
    "turtle.done()\n"
   ]
  },
  {
   "cell_type": "code",
   "execution_count": null,
   "id": "a157701a",
   "metadata": {},
   "outputs": [],
   "source": []
  }
 ],
 "metadata": {
  "kernelspec": {
   "display_name": "Python 3 (ipykernel)",
   "language": "python",
   "name": "python3"
  },
  "language_info": {
   "codemirror_mode": {
    "name": "ipython",
    "version": 3
   },
   "file_extension": ".py",
   "mimetype": "text/x-python",
   "name": "python",
   "nbconvert_exporter": "python",
   "pygments_lexer": "ipython3",
   "version": "3.8.10"
  }
 },
 "nbformat": 4,
 "nbformat_minor": 5
}
