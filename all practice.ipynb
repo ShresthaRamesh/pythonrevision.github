{
 "cells": [
  {
   "cell_type": "markdown",
   "id": "9e0e978a",
   "metadata": {},
   "source": [
    "# C program to check whether a number is divisible by 5 and 11 or not"
   ]
  },
  {
   "cell_type": "code",
   "execution_count": null,
   "id": "e7fdb4ab",
   "metadata": {},
   "outputs": [],
   "source": [
    "nums = int(input(\"Enter a numbers\"))\n",
    "\n",
    "if nums % 5 == 0 and nums %11 == 0:\n",
    "    print(\"the numbers {} is divisible\".format(nums))\n",
    "    \n",
    "else:\n",
    "    print(\"the numbers {} is not divisiible\".format(nums))"
   ]
  },
  {
   "cell_type": "markdown",
   "id": "b126088a",
   "metadata": {},
   "source": [
    "# C program check whether a number is even or odd\n"
   ]
  },
  {
   "cell_type": "code",
   "execution_count": null,
   "id": "11baf049",
   "metadata": {},
   "outputs": [],
   "source": [
    "nums = int(input(\"Enter a numbers\"))\n",
    "\n",
    "if nums %2 ==0 or nums %3 == 0:\n",
    "    print(\"the numbers {} is even\".format(nums))\n",
    "\n",
    "else :\n",
    "    print(\"the numbers {} is odd\".format(nums))"
   ]
  },
  {
   "cell_type": "markdown",
   "id": "9b0a5d04",
   "metadata": {},
   "source": [
    "# C program to check whether a character is alphabet or not"
   ]
  },
  {
   "cell_type": "code",
   "execution_count": null,
   "id": "9f4a0857",
   "metadata": {},
   "outputs": [],
   "source": [
    "Alp = input(\"enter a alphabate\")\n",
    "\n",
    "if Alp >=\"a\" and Alp <=\"z\":\n",
    "    print(\"given name is alphabet\".format(Alp))\n",
    "elif Alp >=\"A\" and Alp <=\"Z\":\n",
    "     print(\"given name is alphabet\".format(Alp))   \n",
    "else:\n",
    "    print(\"given name isnot alphabet\".format(Alp))"
   ]
  },
  {
   "cell_type": "markdown",
   "id": "cda702fa",
   "metadata": {},
   "source": [
    "#  print all natural numbers from 1 to n"
   ]
  },
  {
   "cell_type": "code",
   "execution_count": null,
   "id": "5b6f69ce",
   "metadata": {},
   "outputs": [],
   "source": [
    "n = int(input(\"enter a numbers\"))\n",
    "\n",
    "for item in range(1, n):\n",
    "    print(\"the numbers {} is natural\".format(item))\n",
    "\n"
   ]
  },
  {
   "cell_type": "markdown",
   "id": "d0d95e68",
   "metadata": {},
   "source": [
    "# print all natural numbers is reverse form n to 1"
   ]
  },
  {
   "cell_type": "code",
   "execution_count": null,
   "id": "11fee0c0",
   "metadata": {},
   "outputs": [],
   "source": [
    "n = int(input(\"enter a numbers\"))\n",
    "start = n\n",
    "\n",
    "step = 1\n",
    "for item in range(1, n):\n",
    "    print(\"reverse number = {}\".format(item))"
   ]
  },
  {
   "cell_type": "markdown",
   "id": "76805850",
   "metadata": {},
   "source": [
    "# print all even numbers from 1 to n"
   ]
  },
  {
   "cell_type": "code",
   "execution_count": null,
   "id": "8e9fd0d0",
   "metadata": {},
   "outputs": [],
   "source": [
    "num3 = int(input(\"numbers\"))\n",
    "start = 0\n",
    "step = 2\n",
    "\n",
    "for index in range(0, num3, 2):\n",
    "    print(\"{}\".format(index))"
   ]
  },
  {
   "cell_type": "markdown",
   "id": "8e421a41",
   "metadata": {},
   "source": [
    "# find sum of natural numbers from 1 to n"
   ]
  },
  {
   "cell_type": "code",
   "execution_count": null,
   "id": "881bcaca",
   "metadata": {},
   "outputs": [],
   "source": [
    "num0 = int(input(\"enter a number\"))\n",
    "sum = 0\n",
    "\n",
    "for index in range(1, num0+1):\n",
    "    sum = sum + index\n",
    "    print(\"the sum of natural numbers {}\".format(sum))"
   ]
  },
  {
   "cell_type": "markdown",
   "id": "554c2fc0",
   "metadata": {},
   "source": [
    "# find sum of odd numbers from 1 to n"
   ]
  },
  {
   "cell_type": "code",
   "execution_count": null,
   "id": "b56c593d",
   "metadata": {},
   "outputs": [],
   "source": [
    "n = int(input(\"please enter a number :\"))\n",
    "sum = 0\n",
    "start = 1\n",
    "stop = n\n",
    "step = 2\n",
    "\n",
    "for index in range(1, n, 2):\n",
    "    sum = sum + index\n",
    "    print(\"the sum of odd number = {}\".format(sum))"
   ]
  },
  {
   "cell_type": "markdown",
   "id": "f01a2249",
   "metadata": {},
   "source": [
    "#  print multiplication table of a given number"
   ]
  },
  {
   "cell_type": "code",
   "execution_count": null,
   "id": "2e84cfe0",
   "metadata": {},
   "outputs": [],
   "source": [
    "num = int(input(\"Enter a number :\"))\n",
    "\n",
    "for index in range(1, 11):\n",
    "    print(num,\"x\",index,\"=\", num*index)"
   ]
  },
  {
   "cell_type": "code",
   "execution_count": null,
   "id": "2fa1884f",
   "metadata": {},
   "outputs": [],
   "source": [
    "boys_name = (\"ram\", \"hari\", \"shyam\")\n",
    "girls_name = (\"geeta\", \"sita\", \"kumari\")"
   ]
  },
  {
   "cell_type": "code",
   "execution_count": null,
   "id": "0812e6bc",
   "metadata": {},
   "outputs": [],
   "source": [
    "person = boys_name + girls_name\n"
   ]
  },
  {
   "cell_type": "code",
   "execution_count": null,
   "id": "c7d997c8",
   "metadata": {},
   "outputs": [],
   "source": [
    "print(person)"
   ]
  },
  {
   "cell_type": "code",
   "execution_count": null,
   "id": "d8237dbd",
   "metadata": {},
   "outputs": [],
   "source": [
    "greet = \"hi my name is ramesh shrestha\""
   ]
  },
  {
   "cell_type": "code",
   "execution_count": null,
   "id": "b851e96b",
   "metadata": {},
   "outputs": [],
   "source": [
    "greet.upper()"
   ]
  },
  {
   "cell_type": "markdown",
   "id": "2c43b5f0",
   "metadata": {},
   "source": [
    "# count number of digits in an integer"
   ]
  },
  {
   "cell_type": "code",
   "execution_count": null,
   "id": "02781fd3",
   "metadata": {},
   "outputs": [],
   "source": [
    "nums = int(input(\"enter a numbers\"))\n",
    "count = 0\n",
    "for value in \n"
   ]
  },
  {
   "cell_type": "code",
   "execution_count": null,
   "id": "5bba849f",
   "metadata": {},
   "outputs": [],
   "source": []
  },
  {
   "cell_type": "code",
   "execution_count": null,
   "id": "30616856",
   "metadata": {},
   "outputs": [],
   "source": []
  }
 ],
 "metadata": {
  "kernelspec": {
   "display_name": "Python 3 (ipykernel)",
   "language": "python",
   "name": "python3"
  },
  "language_info": {
   "codemirror_mode": {
    "name": "ipython",
    "version": 3
   },
   "file_extension": ".py",
   "mimetype": "text/x-python",
   "name": "python",
   "nbconvert_exporter": "python",
   "pygments_lexer": "ipython3",
   "version": "3.8.10"
  }
 },
 "nbformat": 4,
 "nbformat_minor": 5
}
