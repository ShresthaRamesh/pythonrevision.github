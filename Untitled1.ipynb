{
 "cells": [
  {
   "cell_type": "markdown",
   "id": "4d5d0229",
   "metadata": {},
   "source": [
    "# find maximiunm between two numbers"
   ]
  },
  {
   "cell_type": "code",
   "execution_count": null,
   "id": "18c0be92",
   "metadata": {},
   "outputs": [],
   "source": [
    "x = int(input(\"enter a number\"))\n",
    "y = int(input(\"enter a number\"))\n",
    "\n",
    "if   x>y:\n",
    "    print('the number  {} is greater than y'.format(x))\n",
    "    \n",
    "else:\n",
    "    print('the number  {} is greater than x'.format(y))"
   ]
  },
  {
   "cell_type": "markdown",
   "id": "e349d783",
   "metadata": {},
   "source": [
    "# fine maximum number between three numbers"
   ]
  },
  {
   "cell_type": "code",
   "execution_count": 6,
   "id": "153bbea8",
   "metadata": {},
   "outputs": [
    {
     "name": "stdout",
     "output_type": "stream",
     "text": [
      "enter a number17\n",
      "enter a number18\n",
      "enter a number11\n",
      "y is greater and its value 18\n"
     ]
    }
   ],
   "source": [
    "x = int(input(\"enter a number\"))\n",
    "y = int(input(\"enter a number\"))\n",
    "z = int(input(\"enter a number\"))\n",
    "\n",
    "if   x>y and x>z:\n",
    "    print('x is greater and its value {}'.format(x))\n",
    "    \n",
    "elif y>x and y>z:\n",
    "    print('y is greater and its value {}'.format(y))\n",
    "    \n",
    "else:\n",
    "    print('z is greater and its value {}'.format(z))\n",
    "    "
   ]
  },
  {
   "cell_type": "code",
   "execution_count": null,
   "id": "4ee9bbf1",
   "metadata": {},
   "outputs": [],
   "source": []
  },
  {
   "cell_type": "code",
   "execution_count": 3,
   "id": "1fb14aa8",
   "metadata": {},
   "outputs": [
    {
     "name": "stdout",
     "output_type": "stream",
     "text": [
      "Enter a number 11\n",
      "Enter a number 13\n",
      "Enter a number 12\n",
      "b is greater and it's value is 13\n"
     ]
    }
   ],
   "source": [
    "a = int(input(\"Enter a number \"))\n",
    "b = int(input(\"Enter a number \"))\n",
    "c = int(input(\"Enter a number \"))\n",
    "\n",
    "if a>b and a>c:\n",
    "    print(\"a is greater and it's value is {}\".format(a))\n",
    "elif b>a and b>c:\n",
    "    print(\"b is greater and it's value is {}\".format(b))\n",
    "elif c>a and c>b:\n",
    "    print(\"c is greater and it's value is {}\".format(c))"
   ]
  },
  {
   "cell_type": "markdown",
   "id": "65ffdc17",
   "metadata": {},
   "source": [
    "# write a function to check if the given input numbers is prime or not if prime return true else return flase"
   ]
  },
  {
   "cell_type": "code",
   "execution_count": 16,
   "id": "7b88f862",
   "metadata": {},
   "outputs": [
    {
     "name": "stdout",
     "output_type": "stream",
     "text": [
      "Enter a number13\n",
      "the given numbers 13 is not prime\n"
     ]
    }
   ],
   "source": [
    "input_nums = int(input(\"Enter a number\"))\n",
    "\n",
    "if input_nums %2 == 0:\n",
    "    print(\"the given number {} is prime\".format(input_nums))\n",
    "    \n",
    "    if input_nums % 2 == 0:\n",
    "        print(\"true\")\n",
    "    else:\n",
    "        print(\"false\")\n",
    "else:\n",
    "    print(\"the given numbers {} is not prime\".format(input_nums))"
   ]
  },
  {
   "cell_type": "code",
   "execution_count": null,
   "id": "cb81339b",
   "metadata": {},
   "outputs": [],
   "source": []
  },
  {
   "cell_type": "code",
   "execution_count": 22,
   "id": "6722c31e",
   "metadata": {},
   "outputs": [
    {
     "name": "stdout",
     "output_type": "stream",
     "text": [
      "Enter a number15\n",
      "15 is not a prime number\n",
      "1 time 15 is 15\n",
      "15 is not a prime number\n",
      "2 time 7 is 15\n",
      "15 is not a prime number\n",
      "3 time 5 is 15\n",
      "15 is not a prime number\n",
      "4 time 3 is 15\n",
      "15 is not a prime number\n",
      "5 time 3 is 15\n",
      "15 is not a prime number\n",
      "6 time 2 is 15\n",
      "15 is not a prime number\n",
      "7 time 2 is 15\n",
      "15 is not a prime number\n",
      "8 time 1 is 15\n",
      "15 is not a prime number\n",
      "9 time 1 is 15\n",
      "15 is not a prime number\n",
      "10 time 1 is 15\n",
      "15 is not a prime number\n",
      "11 time 1 is 15\n",
      "15 is not a prime number\n",
      "12 time 1 is 15\n",
      "15 is not a prime number\n",
      "13 time 1 is 15\n",
      "15 is not a prime number\n",
      "14 time 1 is 15\n"
     ]
    }
   ],
   "source": [
    "num = int(input(\"Enter a number\"))\n",
    "\n",
    "if num > 1:\n",
    "    for i in range(1, num):\n",
    "        if (num % 1) == 0:\n",
    "            print(num, \"is not a prime number\")\n",
    "            print(i, \"time\", num//i, \"is\", num)\n",
    "        \n",
    "        else:\n",
    "            print(num, \"is a prime number\")\n",
    "else:\n",
    "    print(num, \"is not a prime number\")\n",
    "    "
   ]
  },
  {
   "cell_type": "code",
   "execution_count": null,
   "id": "849f5e47",
   "metadata": {},
   "outputs": [],
   "source": []
  }
 ],
 "metadata": {
  "kernelspec": {
   "display_name": "Python 3 (ipykernel)",
   "language": "python",
   "name": "python3"
  },
  "language_info": {
   "codemirror_mode": {
    "name": "ipython",
    "version": 3
   },
   "file_extension": ".py",
   "mimetype": "text/x-python",
   "name": "python",
   "nbconvert_exporter": "python",
   "pygments_lexer": "ipython3",
   "version": "3.8.10"
  }
 },
 "nbformat": 4,
 "nbformat_minor": 5
}
