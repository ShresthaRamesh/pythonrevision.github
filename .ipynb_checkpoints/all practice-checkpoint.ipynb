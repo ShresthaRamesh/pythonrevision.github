{
 "cells": [
  {
   "cell_type": "markdown",
   "id": "9e0e978a",
   "metadata": {},
   "source": [
    "# C program to check whether a number is divisible by 5 and 11 or not"
   ]
  },
  {
   "cell_type": "code",
   "execution_count": null,
   "id": "e7fdb4ab",
   "metadata": {},
   "outputs": [],
   "source": [
    "nums = int(input(\"Enter a numbers\"))\n",
    "\n",
    "if nums % 5 == 0 and nums %11 == 0:\n",
    "    print(\"the numbers {} is divisible\".format(nums))\n",
    "    \n",
    "else:\n",
    "    print(\"the numbers {} is not divisiible\".format(nums))"
   ]
  },
  {
   "cell_type": "markdown",
   "id": "b126088a",
   "metadata": {},
   "source": [
    "# C program check whether a number is even or odd\n"
   ]
  },
  {
   "cell_type": "code",
   "execution_count": null,
   "id": "11baf049",
   "metadata": {},
   "outputs": [],
   "source": [
    "nums = int(input(\"Enter a numbers\"))\n",
    "\n",
    "if nums %2 ==0 or nums %3 == 0:\n",
    "    print(\"the numbers {} is even\".format(nums))\n",
    "\n",
    "else :\n",
    "    print(\"the numbers {} is odd\".format(nums))"
   ]
  },
  {
   "cell_type": "markdown",
   "id": "9b0a5d04",
   "metadata": {},
   "source": [
    "# C program to check whether a character is alphabet or not"
   ]
  },
  {
   "cell_type": "code",
   "execution_count": null,
   "id": "9f4a0857",
   "metadata": {},
   "outputs": [],
   "source": [
    "Alp = input(\"enter a alphabate\")\n",
    "\n",
    "if Alp >=\"a\" and Alp <=\"z\":\n",
    "    print(\"given name is alphabet\".format(Alp))\n",
    "elif Alp >=\"A\" and Alp <=\"Z\":\n",
    "     print(\"given name is alphabet\".format(Alp))   \n",
    "else:\n",
    "    print(\"given name isnot alphabet\".format(Alp))"
   ]
  },
  {
   "cell_type": "markdown",
   "id": "cda702fa",
   "metadata": {},
   "source": [
    "#  print all natural numbers from 1 to n"
   ]
  },
  {
   "cell_type": "code",
   "execution_count": 2,
   "id": "5b6f69ce",
   "metadata": {},
   "outputs": [
    {
     "name": "stdout",
     "output_type": "stream",
     "text": [
      "enter a numbers12\n",
      "the numbers 1 is natural\n",
      "the numbers 2 is natural\n",
      "the numbers 3 is natural\n",
      "the numbers 4 is natural\n",
      "the numbers 5 is natural\n",
      "the numbers 6 is natural\n",
      "the numbers 7 is natural\n",
      "the numbers 8 is natural\n",
      "the numbers 9 is natural\n",
      "the numbers 10 is natural\n",
      "the numbers 11 is natural\n"
     ]
    }
   ],
   "source": [
    "n = int(input(\"enter a numbers\"))\n",
    "\n",
    "for item in range(1, n):\n",
    "    print(\"the numbers {} is natural\".format(item))\n",
    "\n"
   ]
  },
  {
   "cell_type": "markdown",
   "id": "d0d95e68",
   "metadata": {},
   "source": [
    "# print all natural numbers is reverse form n to 1"
   ]
  },
  {
   "cell_type": "code",
   "execution_count": null,
   "id": "11fee0c0",
   "metadata": {},
   "outputs": [],
   "source": [
    "nums = int(input(\"enter a numbers\"))\n",
    "\n",
    "for item in range(n, 1):\n",
    "    item == item-1\n",
    "    print(\"reverse number\".format(item))"
   ]
  },
  {
   "cell_type": "code",
   "execution_count": null,
   "id": "cd6a6b9c",
   "metadata": {},
   "outputs": [],
   "source": []
  }
 ],
 "metadata": {
  "kernelspec": {
   "display_name": "Python 3 (ipykernel)",
   "language": "python",
   "name": "python3"
  },
  "language_info": {
   "codemirror_mode": {
    "name": "ipython",
    "version": 3
   },
   "file_extension": ".py",
   "mimetype": "text/x-python",
   "name": "python",
   "nbconvert_exporter": "python",
   "pygments_lexer": "ipython3",
   "version": "3.8.10"
  }
 },
 "nbformat": 4,
 "nbformat_minor": 5
}
