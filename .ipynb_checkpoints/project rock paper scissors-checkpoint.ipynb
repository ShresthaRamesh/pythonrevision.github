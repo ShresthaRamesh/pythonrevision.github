{
 "cells": [
  {
   "cell_type": "code",
   "execution_count": 4,
   "id": "1cd680a3",
   "metadata": {},
   "outputs": [
    {
     "name": "stdout",
     "output_type": "stream",
     "text": [
      "enter a choice (rock, papaer, scissors:)paper\n",
      "papaer cove rock! you win.\n",
      "player chose paper, computer chose rock\n"
     ]
    }
   ],
   "source": [
    "import random\n",
    "def get_choices():\n",
    "    player_choice = input(\"enter a choice (rock, papaer, scissors:)\")\n",
    "    option = [\"rock\", \"paper\", \"scissors\"]\n",
    "    computer_choice = random.choice(option)\n",
    "    choice = {\"player\": player_choice, \"computer\": computer_choice}\n",
    "    if player_choice == computer_choice:\n",
    "        print(\"it is tie!\")\n",
    "    elif player_choice == \"rock\":\n",
    "        if computer_choice == \"scissors\":\n",
    "            print(\"rock samshes scissors! you win!\")\n",
    "        else:\n",
    "            print(\"papaer cover the rock! you lose.\")\n",
    "    elif player_choice == \"paper\":\n",
    "        if computer_choice == \"rock\":\n",
    "            print(\"papaer cove rock! you win.\")\n",
    "        else:\n",
    "            print(\"scissors cut the paper! you lose \")\n",
    "    elif player_choice == \"scissor\":\n",
    "        if computer_choice == \"paper\":\n",
    "            print(\"scissor cut the paper! you win\")\n",
    "        else:\n",
    "            print(\"rock samshes scissors! you lose\")\n",
    "    print(f\"player chose {player_choice}, computer chose {computer_choice}\")\n",
    "choice = get_choices()\n"
   ]
  },
  {
   "cell_type": "code",
   "execution_count": null,
   "id": "376be02a",
   "metadata": {},
   "outputs": [],
   "source": []
  },
  {
   "cell_type": "code",
   "execution_count": null,
   "id": "fe18ee53",
   "metadata": {},
   "outputs": [],
   "source": []
  }
 ],
 "metadata": {
  "kernelspec": {
   "display_name": "Python 3 (ipykernel)",
   "language": "python",
   "name": "python3"
  },
  "language_info": {
   "codemirror_mode": {
    "name": "ipython",
    "version": 3
   },
   "file_extension": ".py",
   "mimetype": "text/x-python",
   "name": "python",
   "nbconvert_exporter": "python",
   "pygments_lexer": "ipython3",
   "version": "3.8.10"
  }
 },
 "nbformat": 4,
 "nbformat_minor": 5
}
