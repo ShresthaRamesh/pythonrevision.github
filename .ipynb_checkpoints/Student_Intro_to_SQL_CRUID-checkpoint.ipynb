{
 "cells": [
  {
   "cell_type": "markdown",
   "metadata": {
    "id": "2CtPaJdAiVbh"
   },
   "source": [
    "# Introduction to SQLite\n",
    "SQLite is a C library that provides a lightweight disk-based database that doesn’t require a separate server process and allows accessing the database using a nonstandard variant of the SQL query language. Some applications can use SQLite for internal data storage. It’s also possible to prototype an application using SQLite and then port the code to a larger database such as PostgreSQL or Oracle."
   ]
  },
  {
   "cell_type": "markdown",
   "metadata": {
    "id": "Q0smny-KiYc6"
   },
   "source": [
    "## Connect and Create a New Database \n",
    "\n",
    "First, we need to create a new database and open a database connection to allow sqlite3 to work with it. Call `sqlite3.connect()` to to create a connection to the database `users.db` in the current working directory, implicitly creating it if it does not exist:"
   ]
  },
  {
   "cell_type": "code",
   "execution_count": null,
   "metadata": {
    "id": "d-PjDoP1OkEV"
   },
   "outputs": [],
   "source": [
    "import sqlite3"
   ]
  },
  {
   "cell_type": "code",
   "execution_count": null,
   "metadata": {
    "id": "lUeVt6ykOm2O"
   },
   "outputs": [],
   "source": []
  },
  {
   "cell_type": "code",
   "execution_count": null,
   "metadata": {
    "id": "KU4aLpEXiV9C"
   },
   "outputs": [],
   "source": [
    "import sqlite3\n",
    "# create a connection to the database students.db\n",
    "con = sqlite3.connect('student.db')"
   ]
  },
  {
   "cell_type": "code",
   "execution_count": null,
   "metadata": {
    "colab": {
     "base_uri": "https://localhost:8080/"
    },
    "id": "aV8E-EKIil3p",
    "outputId": "ab0ecd42-8034-46d3-d66c-ccd1b414b426"
   },
   "outputs": [
    {
     "data": {
      "text/plain": [
       "sqlite3.Connection"
      ]
     },
     "execution_count": 3,
     "metadata": {},
     "output_type": "execute_result"
    }
   ],
   "source": [
    "type(con)"
   ]
  },
  {
   "cell_type": "markdown",
   "metadata": {
    "id": "pVLD5qrPiq9W"
   },
   "source": [
    "*__The returned Connection object con represents the connection to the on-disk database.__*"
   ]
  },
  {
   "cell_type": "markdown",
   "metadata": {
    "id": "eESuxXkAiuW6"
   },
   "source": [
    "In order to execute SQL statements and fetch results from SQL queries, we will need to use a database cursor. \n",
    "\n",
    "Call `con.cursor()` to create the Cursor:\n",
    "\n",
    "A Cursor is an object that represents a database cursor which is used to execute SQL statements, \n",
    "and manage the context of a fetch operation. Cursors are created using `Connection.cursor()`."
   ]
  },
  {
   "cell_type": "code",
   "execution_count": null,
   "metadata": {
    "id": "rgh5XZY0inB8"
   },
   "outputs": [],
   "source": [
    "cursor = con.cursor()"
   ]
  },
  {
   "cell_type": "markdown",
   "metadata": {
    "id": "T8-_1fhGjWrr"
   },
   "source": [
    "    C : Create \n",
    "    R : Read\n",
    "    U : Update\n",
    "    I : Insert\n",
    "    D : Delete\n",
    "    \n",
    "```python\n",
    "import sqlite3\n",
    "con = sqlite3.connect(\"students.db\")\n",
    "cur = con.cursor()\n",
    "```"
   ]
  },
  {
   "cell_type": "markdown",
   "metadata": {
    "id": "lGgzsWffix5O"
   },
   "source": [
    "# Create table on SQL\n",
    "\n",
    "\n",
    "```sql\n",
    "Create Table table_name(column_names)\n",
    "```\n",
    "\n",
    "Example:\n",
    "\n",
    "```sql\n",
    "Create Table movies(name, genere, release_year, ratings)\n",
    "```\n",
    "\n",
    "You can define data types and Required fields and primary keys while creating tables \n",
    "For Example:\n",
    "\n",
    "\n",
    "```sql\n",
    "CREATE TABLE movies\n",
    "(name VARCHAR(50) NOT NULL,\n",
    " genre, \n",
    " release_year INT, \n",
    " ratings INT,\n",
    "PRIMARY KEY(name));\n",
    "```\n",
    "\n",
    "Another Example:\n",
    "\n",
    "```sql\n",
    "CREATE TABLE movies(name VARCHAR(50) NOT NULL,\n",
    "                    genre VARCHAR(30) NOT NULL,\n",
    "                    director VARCHAR(60) NOT NULL,\n",
    "                    release_year INT NOT NULL, \n",
    "                    ratings INT, PRIMARY KEY(name));\n",
    "```"
   ]
  },
  {
   "cell_type": "code",
   "execution_count": null,
   "metadata": {
    "id": "v2evMSxci0XO"
   },
   "outputs": [],
   "source": [
    "import sqlite3\n",
    "con = sqlite3.connect(\"student.db\")\n",
    "cur = con.cursor()"
   ]
  },
  {
   "cell_type": "code",
   "execution_count": null,
   "metadata": {
    "id": "XLzgMzftRYAF"
   },
   "outputs": [],
   "source": [
    "query = \"\"\"\n",
    "create table students(roll_no int not null, name, gender)\n",
    "\"\"\""
   ]
  },
  {
   "cell_type": "code",
   "execution_count": null,
   "metadata": {
    "colab": {
     "base_uri": "https://localhost:8080/"
    },
    "id": "qPlHrBaPRYCx",
    "outputId": "5cfb7550-0375-42de-a02c-a426a8b85364"
   },
   "outputs": [
    {
     "data": {
      "text/plain": [
       "<sqlite3.Cursor at 0x7f518a7c5650>"
      ]
     },
     "execution_count": 7,
     "metadata": {},
     "output_type": "execute_result"
    }
   ],
   "source": [
    "cur.execute(query)"
   ]
  },
  {
   "cell_type": "code",
   "execution_count": null,
   "metadata": {
    "id": "2T8MPNyZRYFn"
   },
   "outputs": [],
   "source": []
  },
  {
   "cell_type": "code",
   "execution_count": null,
   "metadata": {
    "id": "gPdC3ZSSRYH6"
   },
   "outputs": [],
   "source": []
  },
  {
   "cell_type": "code",
   "execution_count": null,
   "metadata": {
    "id": "6VkrsdCIRYKy"
   },
   "outputs": [],
   "source": []
  },
  {
   "cell_type": "markdown",
   "metadata": {
    "id": "v4NXG01Si6-Q"
   },
   "source": [
    "# The MySQL INSERT INTO Statement\n",
    "\n",
    "Create movies table first to insert data on it.\n",
    "\n",
    "Syntax:\n",
    "\n",
    "```sql\n",
    "INSERT INTO table_name (column1, column2, column3, ...)\n",
    "VALUES (value1, value2, value3, ...),\n",
    "(value11, value12, value13, ...);\n",
    "```\n",
    "\n",
    "\n",
    "# Executemany/ Insert\n",
    "```sql\n",
    "INSERT INTO table_name (column1, column2, column3, ...)\n",
    "VALUES (?, ?, ?, ...);\n",
    "```\n"
   ]
  },
  {
   "cell_type": "code",
   "execution_count": null,
   "metadata": {
    "id": "K8XUE5AAi7U7"
   },
   "outputs": [],
   "source": [
    "insert_query = \"\"\"\n",
    "insert into students (roll_no,name, gender)\n",
    "values\n",
    "(1, 'Santosh', 'M'),\n",
    "(2, 'Dhurba', 'M'),\n",
    "(3, 'Aayusha', 'F')\n",
    "\"\"\""
   ]
  },
  {
   "cell_type": "code",
   "execution_count": null,
   "metadata": {
    "colab": {
     "base_uri": "https://localhost:8080/"
    },
    "id": "z0sicnOUSxNi",
    "outputId": "b6d6622d-7a92-44d4-9574-558a55d39a0a"
   },
   "outputs": [
    {
     "data": {
      "text/plain": [
       "<sqlite3.Cursor at 0x7f518a7c5650>"
      ]
     },
     "execution_count": 9,
     "metadata": {},
     "output_type": "execute_result"
    }
   ],
   "source": [
    "cur.execute(insert_query)"
   ]
  },
  {
   "cell_type": "code",
   "execution_count": null,
   "metadata": {
    "id": "ak9sWjgYSxQI"
   },
   "outputs": [],
   "source": []
  },
  {
   "cell_type": "code",
   "execution_count": null,
   "metadata": {
    "id": "zLNCqq4XSxSi"
   },
   "outputs": [],
   "source": []
  },
  {
   "cell_type": "code",
   "execution_count": null,
   "metadata": {
    "id": "wmD_BJUfSxVZ"
   },
   "outputs": [],
   "source": []
  },
  {
   "cell_type": "markdown",
   "metadata": {
    "id": "fbEt6fyPjA-x"
   },
   "source": [
    "# SELECT Statement in MYSQL Database/ Read the table\n",
    "\n",
    "```sql\n",
    "SELECT * FROM TABLE_NAME;\n",
    "```"
   ]
  },
  {
   "cell_type": "code",
   "execution_count": null,
   "metadata": {
    "id": "9RyiwuFrjBTy"
   },
   "outputs": [],
   "source": [
    "read_query = \"\"\"\n",
    "select * from students\n",
    "\"\"\""
   ]
  },
  {
   "cell_type": "code",
   "execution_count": null,
   "metadata": {
    "colab": {
     "base_uri": "https://localhost:8080/"
    },
    "id": "zb8ewiK4Vjd2",
    "outputId": "6a4a9ed5-31b9-4273-a6dd-0f6843c59f7d"
   },
   "outputs": [
    {
     "data": {
      "text/plain": [
       "[(1, 'Santosh', 'M'), (2, 'Dhurba', 'M'), (3, 'Aayusha', 'F')]"
      ]
     },
     "execution_count": 12,
     "metadata": {},
     "output_type": "execute_result"
    }
   ],
   "source": [
    "cur.execute(read_query).fetchall()"
   ]
  },
  {
   "cell_type": "code",
   "execution_count": null,
   "metadata": {
    "colab": {
     "base_uri": "https://localhost:8080/"
    },
    "id": "0G8eWNaoVjgp",
    "outputId": "779dc97e-028b-40d6-f43c-91ae624668b0"
   },
   "outputs": [
    {
     "data": {
      "text/plain": [
       "[(3, 'Aayusha', 'F')]"
      ]
     },
     "execution_count": 13,
     "metadata": {},
     "output_type": "execute_result"
    }
   ],
   "source": [
    "cur.execute(\"select * from students where gender = 'F'\").fetchall()"
   ]
  },
  {
   "cell_type": "code",
   "execution_count": null,
   "metadata": {
    "id": "dBQzIqPLVjjf"
   },
   "outputs": [],
   "source": []
  },
  {
   "cell_type": "markdown",
   "metadata": {
    "id": "_rP4Sk2EjFW6"
   },
   "source": [
    "# Update statement in MYSQL\n",
    "\n",
    "\n",
    "```sql\n",
    "UPDATE table_name\n",
    "SET column1 = value1, column2 = value2, ...\n",
    "WHERE condition; \n",
    "```"
   ]
  },
  {
   "cell_type": "code",
   "execution_count": null,
   "metadata": {
    "id": "EKJZ7YCLXbxW"
   },
   "outputs": [],
   "source": [
    "# students (roll_no,name, gender)"
   ]
  },
  {
   "cell_type": "code",
   "execution_count": null,
   "metadata": {
    "id": "DdlshVK4jFsq"
   },
   "outputs": [],
   "source": [
    "update_query = \"\"\"\n",
    "update students \n",
    "set name = 'Shyam kumar'\n",
    "where \n",
    "roll_no = 2\n",
    "\"\"\""
   ]
  },
  {
   "cell_type": "code",
   "execution_count": null,
   "metadata": {
    "colab": {
     "base_uri": "https://localhost:8080/"
    },
    "id": "TlhtuZVdXuPM",
    "outputId": "d1db3cb5-a2dc-4246-bdb6-fa42dd486dbc"
   },
   "outputs": [
    {
     "data": {
      "text/plain": [
       "<sqlite3.Cursor at 0x7f518a7c5650>"
      ]
     },
     "execution_count": 18,
     "metadata": {},
     "output_type": "execute_result"
    }
   ],
   "source": [
    "cur.execute(update_query)"
   ]
  },
  {
   "cell_type": "code",
   "execution_count": null,
   "metadata": {
    "colab": {
     "base_uri": "https://localhost:8080/"
    },
    "id": "v7IWdNPMXuRx",
    "outputId": "969d1083-166f-4776-e722-25f8ed847a13"
   },
   "outputs": [
    {
     "data": {
      "text/plain": [
       "[(1, 'Santosh', 'M'), (2, 'Shyam kumar', 'M'), (3, 'Aayusha', 'F')]"
      ]
     },
     "execution_count": 19,
     "metadata": {},
     "output_type": "execute_result"
    }
   ],
   "source": [
    "cur.execute(\"select * from students\").fetchall()"
   ]
  },
  {
   "cell_type": "code",
   "execution_count": null,
   "metadata": {
    "id": "IUBrLeRcXuUK"
   },
   "outputs": [],
   "source": []
  },
  {
   "cell_type": "code",
   "execution_count": null,
   "metadata": {
    "id": "tzvaquTmXuW_"
   },
   "outputs": [],
   "source": []
  },
  {
   "cell_type": "markdown",
   "metadata": {
    "id": "S4vJXZZhjg06"
   },
   "source": [
    "# Delete statement in MYSQL\n",
    "\n",
    "\n",
    "```sql\n",
    "Delete from table_name\n",
    "WHERE condition; \n",
    "```"
   ]
  },
  {
   "cell_type": "code",
   "execution_count": null,
   "metadata": {
    "id": "CBslstIfjktn"
   },
   "outputs": [],
   "source": [
    "delete_query = \"delete from students where roll_no = 2\""
   ]
  },
  {
   "cell_type": "code",
   "execution_count": null,
   "metadata": {
    "colab": {
     "base_uri": "https://localhost:8080/"
    },
    "id": "kcju05ikZTwg",
    "outputId": "6c0b67ba-e059-467f-c66c-4c7221bed89b"
   },
   "outputs": [
    {
     "data": {
      "text/plain": [
       "<sqlite3.Cursor at 0x7f518a7c5650>"
      ]
     },
     "execution_count": 21,
     "metadata": {},
     "output_type": "execute_result"
    }
   ],
   "source": [
    "cur.execute(delete_query)"
   ]
  },
  {
   "cell_type": "code",
   "execution_count": null,
   "metadata": {
    "colab": {
     "base_uri": "https://localhost:8080/"
    },
    "id": "la_pLc2OZWso",
    "outputId": "9b94b634-26f0-4b92-c22c-7e5c223d984b"
   },
   "outputs": [
    {
     "data": {
      "text/plain": [
       "[(1, 'Santosh', 'M'), (3, 'Aayusha', 'F')]"
      ]
     },
     "execution_count": 22,
     "metadata": {},
     "output_type": "execute_result"
    }
   ],
   "source": [
    "cur.execute(\"select * from students\").fetchall()"
   ]
  },
  {
   "cell_type": "code",
   "execution_count": null,
   "metadata": {
    "id": "p0mmYk5ZZdO3"
   },
   "outputs": [],
   "source": []
  }
 ],
 "metadata": {
  "colab": {
   "collapsed_sections": [],
   "provenance": []
  },
  "kernelspec": {
   "display_name": "Python 3 (ipykernel)",
   "language": "python",
   "name": "python3"
  },
  "language_info": {
   "codemirror_mode": {
    "name": "ipython",
    "version": 3
   },
   "file_extension": ".py",
   "mimetype": "text/x-python",
   "name": "python",
   "nbconvert_exporter": "python",
   "pygments_lexer": "ipython3",
   "version": "3.8.10"
  }
 },
 "nbformat": 4,
 "nbformat_minor": 1
}
